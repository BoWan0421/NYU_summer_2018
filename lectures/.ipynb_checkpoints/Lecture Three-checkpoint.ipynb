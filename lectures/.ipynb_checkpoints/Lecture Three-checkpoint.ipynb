{
 "cells": [
  {
   "cell_type": "markdown",
   "metadata": {},
   "source": [
    "## Bringing things together - Application of what we've learned thus far\n",
    "\n",
    "In this lecture we'll explore some applications of what we've learned how to do so far.\n",
    "\n",
    "## Finding the zeros of equations\n",
    "\n",
    "In lecture one we looked at writing down some equations in Python.  Now we'll make use of this ability to \"find the zeros\" of those equations - the values of our parameters such that the function is equal to zero or a tuple of zeros, for multivariate equations.\n",
    "\n",
    "## Single variable equations\n",
    "\n",
    "First let's look at how to deal with this for equations of a single variable.  These equations will be of the form:\n",
    "\n",
    "`f(x) = a*x + b`\n",
    "\n",
    "Notice we'll only consider linear equations for now."
   ]
  },
  {
   "cell_type": "code",
   "execution_count": 9,
   "metadata": {},
   "outputs": [
    {
     "name": "stdout",
     "output_type": "stream",
     "text": [
      "The 'zero' for equation one is 0\n"
     ]
    }
   ],
   "source": [
    "def equation_one(x):\n",
    "    return x\n",
    "\n",
    "def find_zero_eq_one():\n",
    "    for i in range(-100, 100):\n",
    "        if equation_one(i) == 0:\n",
    "            return i        \n",
    "print(\"The 'zero' for equation one is\", find_zero_eq_one())"
   ]
  },
  {
   "cell_type": "markdown",
   "metadata": {},
   "source": [
    "In order to find the zero, we simply try a bunch of different numbers.  And if our condition of the zero being found ever happens to be right, we return.  This first example was of course trivial.  Let's see if we can make it more complex!"
   ]
  },
  {
   "cell_type": "code",
   "execution_count": 10,
   "metadata": {},
   "outputs": [
    {
     "name": "stdout",
     "output_type": "stream",
     "text": [
      "The 'zero' for equation two is -7\n"
     ]
    }
   ],
   "source": [
    "def equation_two(x):\n",
    "    return x + 7\n",
    "\n",
    "def find_zero_eq_two():\n",
    "    for i in range(-100, 100):\n",
    "        if equation_two(i) == 0:\n",
    "            return i\n",
    "        \n",
    "print(\"The 'zero' for equation two is\", find_zero_eq_two())"
   ]
  },
  {
   "cell_type": "markdown",
   "metadata": {},
   "source": [
    "For this slightly more complex equation things get a little more interesting!  Now we have a `x` that gives `f(x) = 0` that is not zero itself!  Let's see if this zero finding method will always hold up."
   ]
  },
  {
   "cell_type": "code",
   "execution_count": 11,
   "metadata": {},
   "outputs": [],
   "source": [
    "def equation_three(x):\n",
    "    return 5*x + 7\n",
    "\n",
    "def find_zero_eq_three():\n",
    "    for i in range(-100, 100):\n",
    "        if equation_three(i) == 0:\n",
    "            return i\n",
    "        \n",
    "print(\"The 'zero' for equation three is\", find_zero_eq_three())"
   ]
  },
  {
   "cell_type": "markdown",
   "metadata": {},
   "source": [
    "As you can see we fail to find the right solution to equation three.  Is that because our search method is fundamentally flawed?  In fact it is not!  The problem here is that we are 'skipping' over the solution.  Notice that our equation now has a coefficient on the x.  This means that the 'solution' will likely be a rational number, not a natural number.  Therefore we'll need to include the rational numbers in our search space.\n",
    "\n",
    "But how can we do that?  Let's see if the range function can be helpful here:"
   ]
  },
  {
   "cell_type": "code",
   "execution_count": 12,
   "metadata": {},
   "outputs": [
    {
     "ename": "TypeError",
     "evalue": "'float' object cannot be interpreted as an integer",
     "output_type": "error",
     "traceback": [
      "\u001b[0;31m---------------------------------------------------------------------------\u001b[0m",
      "\u001b[0;31mTypeError\u001b[0m                                 Traceback (most recent call last)",
      "\u001b[0;32m<ipython-input-12-0434b52b65a5>\u001b[0m in \u001b[0;36m<module>\u001b[0;34m()\u001b[0m\n\u001b[0;32m----> 1\u001b[0;31m \u001b[0;32mfor\u001b[0m \u001b[0mi\u001b[0m \u001b[0;32min\u001b[0m \u001b[0mrange\u001b[0m\u001b[0;34m(\u001b[0m\u001b[0;36m0\u001b[0m\u001b[0;34m,\u001b[0m\u001b[0;36m10\u001b[0m\u001b[0;34m,\u001b[0m\u001b[0;36m0.1\u001b[0m\u001b[0;34m)\u001b[0m\u001b[0;34m:\u001b[0m\u001b[0;34m\u001b[0m\u001b[0m\n\u001b[0m\u001b[1;32m      2\u001b[0m     \u001b[0mprint\u001b[0m\u001b[0;34m(\u001b[0m\u001b[0mi\u001b[0m\u001b[0;34m)\u001b[0m\u001b[0;34m\u001b[0m\u001b[0m\n",
      "\u001b[0;31mTypeError\u001b[0m: 'float' object cannot be interpreted as an integer"
     ]
    }
   ],
   "source": [
    "for i in range(0,10,0.1):\n",
    "    print(i)"
   ]
  },
  {
   "cell_type": "markdown",
   "metadata": {},
   "source": [
    "Oh no!  The range function only takes integer values for the step size!  Is there any recourse?!  \n",
    "\n",
    "It turns out we can make use of the range function we implemented last lecture to achieve the desired result!"
   ]
  },
  {
   "cell_type": "code",
   "execution_count": 29,
   "metadata": {},
   "outputs": [
    {
     "name": "stdout",
     "output_type": "stream",
     "text": [
      "The 'zero' for equation three is None\n"
     ]
    }
   ],
   "source": [
    "def arange(start, stop, step):\n",
    "    iterator = start\n",
    "    while iterator < stop:\n",
    "        yield iterator\n",
    "        iterator += step\n",
    "\n",
    "def equation_three(x):\n",
    "    return 5*x + 7\n",
    "\n",
    "def find_zero_eq_three():\n",
    "    for i in arange(-10, 10, 0.01):\n",
    "        if equation_three(i) == 0:\n",
    "            return i\n",
    "        \n",
    "print(\"The 'zero' for equation three is\", find_zero_eq_three())"
   ]
  },
  {
   "cell_type": "markdown",
   "metadata": {},
   "source": [
    "We still fail to find the 'zero' even with a far more granular search space.  The reason for this is because of the nature of floating point numbers, they are inherently inprecise.  In fact, our arange function does contain approximately the right answer, which happens to be -7/5 (or -1.4).  \n",
    "\n",
    "The right thing to do is allow for a little bit of error, since we'll never get a precise solution.  So now we'll add an `episolon` term to our `find_zero_eq_three()` which will allow us to get \"close enough\"."
   ]
  },
  {
   "cell_type": "code",
   "execution_count": 39,
   "metadata": {},
   "outputs": [
    {
     "name": "stdout",
     "output_type": "stream",
     "text": [
      "The 'zero' for equation three is -1.40000000000017\n"
     ]
    }
   ],
   "source": [
    "def arange(start, stop, step):\n",
    "    iterator = start\n",
    "    while iterator < stop:\n",
    "        yield iterator\n",
    "        iterator += step\n",
    "\n",
    "def equation_three(x):\n",
    "    return 5*x + 7\n",
    "\n",
    "def find_zero_eq_three(episolon):\n",
    "    for i in arange(-10, 10, 0.01):\n",
    "        if abs(equation_three(i)) < episolon:\n",
    "            return i\n",
    "        \n",
    "print(\"The 'zero' for equation three is\", find_zero_eq_three(0.01))"
   ]
  },
  {
   "cell_type": "markdown",
   "metadata": {},
   "source": [
    "Success!  We found the zero!  We are now in a position to move to the two variable case!"
   ]
  },
  {
   "cell_type": "code",
   "execution_count": 41,
   "metadata": {},
   "outputs": [
    {
     "name": "stdout",
     "output_type": "stream",
     "text": [
      "The 'zero' for equation three is (-9.400000000000002, 9.999999999999963)\n"
     ]
    }
   ],
   "source": [
    "def arange(start, stop, step):\n",
    "    iterator = start\n",
    "    while iterator < stop:\n",
    "        yield iterator\n",
    "        iterator += step\n",
    "\n",
    "        \n",
    "def equation_four(x, y):\n",
    "    return 5*x + 4*y + 7\n",
    "\n",
    "\n",
    "def find_zero_eq_four(episolon):\n",
    "    for i in arange(-10, 10, 0.1):\n",
    "        for j in arange(-10, 10, 0.1):\n",
    "            if abs(equation_four(i, j)) < episolon:\n",
    "                return (i, j)\n",
    "        \n",
    "print(\"The 'zero' for equation three is\", find_zero_eq_four(0.01))"
   ]
  },
  {
   "cell_type": "markdown",
   "metadata": {},
   "source": [
    "As you can see, there wasn't a ton of difference here.  The largest being that now we need 2 for loops, in order to find the zeros.  Let's see if we can generalize out to the case with n variables."
   ]
  },
  {
   "cell_type": "code",
   "execution_count": 4,
   "metadata": {},
   "outputs": [
    {
     "name": "stdout",
     "output_type": "stream",
     "text": [
      "(-7.000000000000011,)\n",
      "(-10, 1.4999999999999816)\n",
      "(-10, -9.9, 7.599999999999971)\n"
     ]
    }
   ],
   "source": [
    "from functools import partial\n",
    "import itertools\n",
    "\n",
    "\n",
    "def arange(start, stop, step):\n",
    "    iterator = start\n",
    "    while iterator < stop:\n",
    "        yield iterator\n",
    "        iterator += step\n",
    "\n",
    "        \n",
    "def equation_five(coefficients, constant, variables):\n",
    "    return sum([coefficients[index]*variables[index] \n",
    "                for index in range(len(variables))]) + constant\n",
    "\n",
    "\n",
    "def find_zero_eq_five(coefficients, constant, episolon):\n",
    "    eq_five = partial(equation_five, coefficients, constant)\n",
    "    value_range = list(arange(-10, 10, 0.1))\n",
    "    values = list(itertools.permutations(value_range, len(coefficients)))\n",
    "    for value in values:        \n",
    "        if abs(eq_five(value)) < episolon:\n",
    "                return value\n",
    "\n",
    "print(find_zero_eq_five([1], 7, 0.1))\n",
    "print(find_zero_eq_five([1, 2], 7, 0.1))\n",
    "print(find_zero_eq_five([1, 2, 3], 7, 0.1))"
   ]
  },
  {
   "cell_type": "markdown",
   "metadata": {},
   "source": [
    "In order to get this to run with any kind of speed I had to cheat a little and use something we haven't introduced yet.  So for completeness, I include an implementation of the function `itertools.permutations`"
   ]
  },
  {
   "cell_type": "code",
   "execution_count": 9,
   "metadata": {},
   "outputs": [
    {
     "data": {
      "text/plain": [
       "[[1, 2, 3], [2, 1, 3], [2, 3, 1], [1, 3, 2], [3, 1, 2], [3, 2, 1]]"
      ]
     },
     "execution_count": 9,
     "metadata": {},
     "output_type": "execute_result"
    }
   ],
   "source": [
    "def all_perms(elements):\n",
    "    if len(elements) <=1:\n",
    "        yield elements\n",
    "    else:\n",
    "        for perm in all_perms(elements[1:]):\n",
    "            for i in range(len(elements)):\n",
    "                # nb elements[0:1] works in both string and list contexts\n",
    "                yield perm[:i] + elements[0:1] + perm[i:]\n",
    "                \n",
    "list(all_perms([1, 2, 3]))"
   ]
  },
  {
   "cell_type": "markdown",
   "metadata": {},
   "source": [
    "Great!  So now we have a linear solver!  Unfortunately, it doesn't run very fast.  The running time of this search is `O(n^number of variables)`.  To get a better sense of what I mean by this, let's formally introduce Big-OH notation.  "
   ]
  },
  {
   "cell_type": "markdown",
   "metadata": {},
   "source": [
    "The running time of any piece of code can be defined by it's lower bound running time, it's upper bound running time, and it's average running time.  Because most computer scientists only care about how an algorithm does in it's worst case, we will only consider the worst case running time here.\n",
    "\n",
    "Informally, a running time is defined as the number of instructions required to execute the code. Let's look at an example:"
   ]
  },
  {
   "cell_type": "code",
   "execution_count": 3,
   "metadata": {},
   "outputs": [
    {
     "data": {
      "text/plain": [
       "101"
      ]
     },
     "execution_count": 3,
     "metadata": {},
     "output_type": "execute_result"
    }
   ],
   "source": [
    "def func(n):\n",
    "    return n + 1\n",
    "\n",
    "func(100)"
   ]
  },
  {
   "cell_type": "markdown",
   "metadata": {},
   "source": [
    "The running time of func is O(1) because it runs in one instruction."
   ]
  },
  {
   "cell_type": "code",
   "execution_count": 1,
   "metadata": {},
   "outputs": [
    {
     "data": {
      "text/plain": [
       "1000"
      ]
     },
     "execution_count": 1,
     "metadata": {},
     "output_type": "execute_result"
    }
   ],
   "source": [
    "def func(n):\n",
    "    x = 0\n",
    "    for i in range(n):\n",
    "        x += 1\n",
    "    return x\n",
    "\n",
    "func(1000)"
   ]
  },
  {
   "cell_type": "markdown",
   "metadata": {},
   "source": [
    "The running time of func is `O(n)` because it takes n instructions to run func.  Let's look at another example:"
   ]
  },
  {
   "cell_type": "code",
   "execution_count": 2,
   "metadata": {},
   "outputs": [
    {
     "data": {
      "text/plain": [
       "1000000"
      ]
     },
     "execution_count": 2,
     "metadata": {},
     "output_type": "execute_result"
    }
   ],
   "source": [
    "def func(n):\n",
    "    x = 0\n",
    "    for i in range(n):\n",
    "        for j in range(n):\n",
    "            x += 1\n",
    "    return x\n",
    "\n",
    "func(1000)"
   ]
  },
  {
   "cell_type": "markdown",
   "metadata": {},
   "source": [
    "The running time of func is O(n^2) because it takes n^2 instructions to run func.  The general rule of thumb is the number of inner loops determines the magnitude of the running time."
   ]
  },
  {
   "cell_type": "code",
   "execution_count": 12,
   "metadata": {},
   "outputs": [],
   "source": [
    "# To do - big-OH notation && divide and conquer algorithms - sorting, multiplication, matrix multiplication, \n",
    "# dynamic programming"
   ]
  },
  {
   "cell_type": "code",
   "execution_count": null,
   "metadata": {},
   "outputs": [],
   "source": [
    "# Next lecture classes, inheritance, composition, libraries, formal definition of a object\n",
    "# lecture after that, "
   ]
  }
 ],
 "metadata": {
  "kernelspec": {
   "display_name": "Python 3",
   "language": "python",
   "name": "python3"
  },
  "language_info": {
   "codemirror_mode": {
    "name": "ipython",
    "version": 3
   },
   "file_extension": ".py",
   "mimetype": "text/x-python",
   "name": "python",
   "nbconvert_exporter": "python",
   "pygments_lexer": "ipython3",
   "version": "3.6.3"
  }
 },
 "nbformat": 4,
 "nbformat_minor": 2
}
