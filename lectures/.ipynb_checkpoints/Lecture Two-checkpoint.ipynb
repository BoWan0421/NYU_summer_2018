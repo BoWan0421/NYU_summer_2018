{
 "cells": [
  {
   "cell_type": "markdown",
   "metadata": {},
   "source": [
    "## Iteration And Arrays\n",
    "\n",
    "The true power of programming is iteration.  Without iteration programming would not be what it is today.\n",
    "\n",
    "With iteration we've:\n",
    "\n",
    "* Cracked the German Enigma Machine (during world war 2)\n",
    "* Got a man back from space\n",
    "* And literally everything else that is of worth or note involving a computer\n",
    "\n",
    "## Ways to do iteration\n",
    "\n",
    "* while loop\n",
    "* for loop (most common)\n",
    "* recursion\n",
    "* list comprehension"
   ]
  },
  {
   "cell_type": "code",
   "execution_count": 1,
   "metadata": {},
   "outputs": [
    {
     "name": "stdout",
     "output_type": "stream",
     "text": [
      "The current value of 'x' is 0\n",
      "The current value of 'x' is 1\n",
      "The current value of 'x' is 2\n",
      "The current value of 'x' is 3\n",
      "The current value of 'x' is 4\n",
      "The current value of 'x' is 5\n",
      "The current value of 'x' is 6\n",
      "The current value of 'x' is 7\n",
      "The current value of 'x' is 8\n",
      "The current value of 'x' is 9\n"
     ]
    }
   ],
   "source": [
    "x = 0\n",
    "while x < 10:\n",
    "    print(\"The current value of 'x' is\", x)\n",
    "    x += 1\n"
   ]
  },
  {
   "cell_type": "markdown",
   "metadata": {},
   "source": [
    "Syntax of a while loop:\n",
    "\n",
    "```\n",
    "while [CONDITION TO CHECK]:\n",
    "....indented block\n",
    "....indented block\n",
    "....indented block\n",
    "....indented block\n",
    "```\n",
    "\n",
    "The big thing with while loops is they keep going until a given condition is no longer true.  This means with iteration, in a sense our code becomes \"dynamic\" with looping.  It updates on its own, without our intervention.\n",
    "\n",
    "Let's look at code that does the same thing, without a while loop.  "
   ]
  },
  {
   "cell_type": "code",
   "execution_count": 2,
   "metadata": {},
   "outputs": [
    {
     "name": "stdout",
     "output_type": "stream",
     "text": [
      "The current value of 'x' is 0\n",
      "The current value of 'x' is 1\n",
      "The current value of 'x' is 2\n",
      "The current value of 'x' is 3\n",
      "The current value of 'x' is 4\n",
      "The current value of 'x' is 5\n",
      "The current value of 'x' is 6\n",
      "The current value of 'x' is 7\n",
      "The current value of 'x' is 8\n",
      "The current value of 'x' is 9\n"
     ]
    }
   ],
   "source": [
    "x = 0\n",
    "print(\"The current value of 'x' is\", x)\n",
    "x += 1\n",
    "print(\"The current value of 'x' is\", x)\n",
    "x += 1\n",
    "print(\"The current value of 'x' is\", x)\n",
    "x += 1\n",
    "print(\"The current value of 'x' is\", x)\n",
    "x += 1\n",
    "print(\"The current value of 'x' is\", x)\n",
    "x += 1\n",
    "print(\"The current value of 'x' is\", x)\n",
    "x += 1\n",
    "print(\"The current value of 'x' is\", x)\n",
    "x += 1\n",
    "print(\"The current value of 'x' is\", x)\n",
    "x += 1\n",
    "print(\"The current value of 'x' is\", x)\n",
    "x += 1\n",
    "print(\"The current value of 'x' is\", x)\n",
    "x += 1"
   ]
  },
  {
   "cell_type": "markdown",
   "metadata": {},
   "source": [
    "As you can see, the code prints out the same thing, however this time, we had to write out the code every single time.  It should be clear the while loop syntax is much, much cleaner.  Now if we want to iterate over a piece of code a million times, it's as easy as changing one line!  Truly a powerful thing."
   ]
  },
  {
   "cell_type": "markdown",
   "metadata": {},
   "source": [
    "## The problem with while loops\n",
    "\n",
    "So while loops are great!  They make our lives easier and mean no more copy/paste.  However they have a serious draw back - what happens when the condition never becomes false?  Let's look at a simple example of this:"
   ]
  },
  {
   "cell_type": "code",
   "execution_count": null,
   "metadata": {},
   "outputs": [],
   "source": [
    "while 5 < 7:\n",
    "    print(\"This code is still running\")\n",
    "    "
   ]
  },
  {
   "cell_type": "markdown",
   "metadata": {},
   "source": [
    "If I happen to run the above code then the kernel will die and the code will never complete!  All because I forgot to add a condition that at some point resolves to false!  While it's obvious in this example that this will never resolve to false, (because 5 is _always_ less than 7) it may not be the case that's its always so clear.  In fact, most of the time, it's likely non-obvious when a loop will terminate, with the given syntax, for any real cases.\n",
    "\n",
    "This is because most humans, for better or worse cannot easily think in boolean logic.  \n",
    "\n",
    "## Enter the for loop, mainstay of iteration\n",
    "\n",
    "Luckily, there is a solution for this that tends to make matters much easier to reason about - the for loop.  Let's see an example!"
   ]
  },
  {
   "cell_type": "code",
   "execution_count": 3,
   "metadata": {},
   "outputs": [
    {
     "name": "stdout",
     "output_type": "stream",
     "text": [
      "The current value of 'x' is 0\n",
      "The current value of 'x' is 1\n",
      "The current value of 'x' is 2\n",
      "The current value of 'x' is 3\n",
      "The current value of 'x' is 4\n",
      "The current value of 'x' is 5\n",
      "The current value of 'x' is 6\n",
      "The current value of 'x' is 7\n",
      "The current value of 'x' is 8\n",
      "The current value of 'x' is 9\n"
     ]
    }
   ],
   "source": [
    "for x in range(0, 10):\n",
    "    print(\"The current value of 'x' is\", x)"
   ]
  },
  {
   "cell_type": "markdown",
   "metadata": {},
   "source": [
    "Notice a few notational conveniences here versus the while loop -\n",
    "\n",
    "No variable initialization.  The variable 'x' is created by the for loop while it runs.  It also gets updated automatically!  Of course, if a variable x already existed, it would get overwritten with whatever value is in the for loop - let's see an example of this:"
   ]
  },
  {
   "cell_type": "code",
   "execution_count": 4,
   "metadata": {},
   "outputs": [
    {
     "name": "stdout",
     "output_type": "stream",
     "text": [
      "The current value of 'x' is 0\n",
      "The current value of 'x' is 1\n",
      "The current value of 'x' is 2\n",
      "The current value of 'x' is 3\n",
      "The current value of 'x' is 4\n",
      "The current value of 'x' is 5\n",
      "The current value of 'x' is 6\n",
      "The current value of 'x' is 7\n",
      "The current value of 'x' is 8\n",
      "The current value of 'x' is 9\n"
     ]
    }
   ],
   "source": [
    "x = 255\n",
    "for x in range(0, 10):\n",
    "    print(\"The current value of 'x' is\", x)"
   ]
  },
  {
   "cell_type": "markdown",
   "metadata": {},
   "source": [
    "This is because there is an implicit assignment statement to the variable x, which overwrites any previous values for x.  So we need to pick our value of iteration with care (basically it shouldn't be any of the values already defined elsewhere in the same scope)"
   ]
  },
  {
   "cell_type": "markdown",
   "metadata": {},
   "source": [
    "## Data Structures\n",
    "\n",
    "In general a data structure applies some extra structure to our data.  All the data structures we see throughout the course will be compositions of simplier pieces of data.  For now, we'll assume that only the data we've introduced can be stored in these structures.  However, we'll relax this assumption over the course."
   ]
  },
  {
   "cell_type": "markdown",
   "metadata": {},
   "source": [
    "## Lists\n",
    "\n",
    "Now that we've touched on for loops, let's dive a little deeper into how the range function works.  In order to understand that we'll need to introduce lists, our first data structure."
   ]
  },
  {
   "cell_type": "code",
   "execution_count": 32,
   "metadata": {},
   "outputs": [
    {
     "name": "stdout",
     "output_type": "stream",
     "text": [
      "The first index of the list 1\n",
      "The second index of the list 2\n",
      "The third index of the list 3\n"
     ]
    }
   ],
   "source": [
    "listing = [1, 2, 3]\n",
    "print(\"The first index of the list\", listing[0])\n",
    "print(\"The second index of the list\", listing[1])\n",
    "print(\"The third index of the list\", listing[2])"
   ]
  },
  {
   "cell_type": "markdown",
   "metadata": {},
   "source": [
    "As you can see the list data structure allows us to store multiple variables together, in one structure or \"object\".  We'll formally define an object in a future lecture, but for now you can informally think of an object as a collection of data and other functionality.\n",
    "\n",
    "The above list allows us to also select values from our structure via a convention called indexing.\n",
    "\n",
    "So getting the first element of our list, requires us to request the zeroth index via the 'slice' notation.  The general syntax is:\n",
    "\n",
    "`list_data_structure[INDEX_OF_INTEREST]`\n",
    "\n",
    "Notice the brackets at the end of the list.  If this feels like a function call, that's on purpose.  The syntax here is intended to be similar.  In fact, if it's helpful, you can think of the slice operator as a function that takes in a natural number and returns it's corresponding value in the given list.\n",
    "\n",
    "In addition to initializing the list with all the desired elements and then accessing them via indexing, we have other ways of adding elements to our list data structure:"
   ]
  },
  {
   "cell_type": "code",
   "execution_count": 33,
   "metadata": {},
   "outputs": [
    {
     "name": "stdout",
     "output_type": "stream",
     "text": [
      "The first index of the list 1\n",
      "The second index of the list 2\n",
      "The third index of the list 3\n"
     ]
    }
   ],
   "source": [
    "listing = []\n",
    "listing.append(1)\n",
    "listing.append(2)\n",
    "listing.append(3)\n",
    "print(\"The first index of the list\", listing[0])\n",
    "print(\"The second index of the list\", listing[1])\n",
    "print(\"The third index of the list\", listing[2])"
   ]
  },
  {
   "cell_type": "markdown",
   "metadata": {},
   "source": [
    "This notation of `[OBJECT].[FUNCTION_NAME]([PARAMETERS])` is called dot notation and allows us to make calls to functions, called methods, associated with Python objects.  All Python objects have different associated methods, pieces of functionality that can augment, transform or give information about the associated stored data.\n",
    "\n",
    "This convention is not specific to Python, but is instead used across most modern programming languages, more on this later.\n",
    "\n",
    "Now that we have the beginnings of an understanding of lists.  Let's see if we can recover the `range` function we've been making use of.\n",
    "\n",
    "Just to provide a definition of the functionality we are after, a `range` function is provided some arguments.  But rather than having me explain it, let's let Python explain itself!"
   ]
  },
  {
   "cell_type": "code",
   "execution_count": 34,
   "metadata": {},
   "outputs": [
    {
     "name": "stdout",
     "output_type": "stream",
     "text": [
      "Help on class range in module builtins:\n",
      "\n",
      "class range(object)\n",
      " |  range(stop) -> range object\n",
      " |  range(start, stop[, step]) -> range object\n",
      " |  \n",
      " |  Return an object that produces a sequence of integers from start (inclusive)\n",
      " |  to stop (exclusive) by step.  range(i, j) produces i, i+1, i+2, ..., j-1.\n",
      " |  start defaults to 0, and stop is omitted!  range(4) produces 0, 1, 2, 3.\n",
      " |  These are exactly the valid indices for a list of 4 elements.\n",
      " |  When step is given, it specifies the increment (or decrement).\n",
      " |  \n",
      " |  Methods defined here:\n",
      " |  \n",
      " |  __bool__(self, /)\n",
      " |      self != 0\n",
      " |  \n",
      " |  __contains__(self, key, /)\n",
      " |      Return key in self.\n",
      " |  \n",
      " |  __eq__(self, value, /)\n",
      " |      Return self==value.\n",
      " |  \n",
      " |  __ge__(self, value, /)\n",
      " |      Return self>=value.\n",
      " |  \n",
      " |  __getattribute__(self, name, /)\n",
      " |      Return getattr(self, name).\n",
      " |  \n",
      " |  __getitem__(self, key, /)\n",
      " |      Return self[key].\n",
      " |  \n",
      " |  __gt__(self, value, /)\n",
      " |      Return self>value.\n",
      " |  \n",
      " |  __hash__(self, /)\n",
      " |      Return hash(self).\n",
      " |  \n",
      " |  __iter__(self, /)\n",
      " |      Implement iter(self).\n",
      " |  \n",
      " |  __le__(self, value, /)\n",
      " |      Return self<=value.\n",
      " |  \n",
      " |  __len__(self, /)\n",
      " |      Return len(self).\n",
      " |  \n",
      " |  __lt__(self, value, /)\n",
      " |      Return self<value.\n",
      " |  \n",
      " |  __ne__(self, value, /)\n",
      " |      Return self!=value.\n",
      " |  \n",
      " |  __new__(*args, **kwargs) from builtins.type\n",
      " |      Create and return a new object.  See help(type) for accurate signature.\n",
      " |  \n",
      " |  __reduce__(...)\n",
      " |      helper for pickle\n",
      " |  \n",
      " |  __repr__(self, /)\n",
      " |      Return repr(self).\n",
      " |  \n",
      " |  __reversed__(...)\n",
      " |      Return a reverse iterator.\n",
      " |  \n",
      " |  count(...)\n",
      " |      rangeobject.count(value) -> integer -- return number of occurrences of value\n",
      " |  \n",
      " |  index(...)\n",
      " |      rangeobject.index(value, [start, [stop]]) -> integer -- return index of value.\n",
      " |      Raise ValueError if the value is not present.\n",
      " |  \n",
      " |  ----------------------------------------------------------------------\n",
      " |  Data descriptors defined here:\n",
      " |  \n",
      " |  start\n",
      " |  \n",
      " |  step\n",
      " |  \n",
      " |  stop\n",
      "\n"
     ]
    }
   ],
   "source": [
    "help(range)"
   ]
  },
  {
   "cell_type": "markdown",
   "metadata": {},
   "source": [
    "The `help` function can be passed any Python object, be that a function or piece of data or data structure.  And it will try to give you more semantic information about the object.  Part of writing good code is making sure to have well documented code.  As well see in a later lecture, it is possible for the programmer to provide this code documentation so that the help method can make use of it.\n",
    "\n",
    "Now that we have a reasonable definition of the range function we can write our own!"
   ]
  },
  {
   "cell_type": "code",
   "execution_count": 35,
   "metadata": {},
   "outputs": [
    {
     "name": "stdout",
     "output_type": "stream",
     "text": [
      "0\n",
      "1\n",
      "2\n",
      "3\n",
      "4\n",
      "5\n",
      "6\n",
      "7\n",
      "8\n",
      "9\n"
     ]
    }
   ],
   "source": [
    "def range_function(start, stop, step):\n",
    "    iterator = start\n",
    "    while iterator < stop:\n",
    "        yield iterator\n",
    "        iterator += step\n",
    "\n",
    "for i in range_function(0,10,1):\n",
    "    print(i)"
   ]
  },
  {
   "cell_type": "markdown",
   "metadata": {},
   "source": [
    "There is only really one new piece here - the `yield` keyword.  It acts similarly to the return statement, except it remembers where it left off the last time, meaning that as you iterate over a set of outputs, you can pause iteration from one function call to the next.  This allows for something rather surprising - we can actually choose not to specify a final stopping point to our iteration.  Of course if we try to iterate forever, we'll eventually run out of memory.  But now we can go as high as well might like in iteration without having to bother to set a ceiling."
   ]
  },
  {
   "cell_type": "markdown",
   "metadata": {},
   "source": [
    "## Looping of a different kind - recursion\n",
    "\n",
    "Unlike the explicit looping we've been talking about thus far, there is a completely different kind of iteration called recursion.  Where function calls string together one after another forming a sort of implicit iteration.\n",
    "\n",
    "Let's look at a simple example:"
   ]
  },
  {
   "cell_type": "code",
   "execution_count": 5,
   "metadata": {},
   "outputs": [
    {
     "data": {
      "text/plain": [
       "120"
      ]
     },
     "execution_count": 5,
     "metadata": {},
     "output_type": "execute_result"
    }
   ],
   "source": [
    "def factorial(x):\n",
    "    if x == 0:\n",
    "        return 1\n",
    "    if x == 1:\n",
    "        return 1\n",
    "    else:\n",
    "        return x*factorial(x-1)\n",
    "    \n",
    "factorial(5)"
   ]
  },
  {
   "cell_type": "markdown",
   "metadata": {},
   "source": [
    "It may not be clear how this could possibly be iteration.  So let's look at our return statements.  Notice we have 3 of them instead of one.  This comes to us from the definition of a factorial -\n",
    "\n",
    "factorial(0) is defined as 1\n",
    "\n",
    "factorial(1) is also defined as 1\n",
    "\n",
    "Any other factorial of any number is defined as `n*(n-1)*(n-2)*...*3*2*1`\n",
    "\n",
    "So that's why the code looks this way, at least sort of.  What's tricky at first is why we only need `x*factorial(x-1)`.  Why should that lead to iteration?\n",
    "\n",
    "Well the answer it turns out is somewhat simple, when you really think about it -\n",
    "\n",
    "We called the function inside it's definition.  What this means is we call the function again and again until the value passed in is either 0 or 1.\n",
    "\n",
    "We could of course write the factorial function as a for-loop as follows:"
   ]
  },
  {
   "cell_type": "code",
   "execution_count": 10,
   "metadata": {},
   "outputs": [
    {
     "data": {
      "text/plain": [
       "5040"
      ]
     },
     "execution_count": 10,
     "metadata": {},
     "output_type": "execute_result"
    }
   ],
   "source": [
    "def factorial(x):\n",
    "    if x == 0:\n",
    "        return 1\n",
    "    if x == 1:\n",
    "        return 1\n",
    "    result = x\n",
    "    for i in range(x-1, 1, -1):\n",
    "        result *= i\n",
    "    return result\n",
    "\n",
    "factorial(7)"
   ]
  },
  {
   "cell_type": "markdown",
   "metadata": {},
   "source": [
    "While recursion, once you are used to it, appears more elegant than iteration, it is far more costly, especially in Python.  In some languages recursion is optimized.  But the typical case is for or while loops are much faster than recursion.  Also they are far more memory efficient, because you don't need to make anywhere near as many function calls.\n",
    "\n",
    "Let's do a quick timing test to see how much faster the for loop version is than the recursive version."
   ]
  },
  {
   "cell_type": "code",
   "execution_count": 14,
   "metadata": {},
   "outputs": [
    {
     "name": "stdout",
     "output_type": "stream",
     "text": [
      "For i= 10000\n",
      "the running time for recursive= 0.023797988891601562\n",
      "the running time for for-loop= 0.02331686019897461\n",
      "For i= 10001\n",
      "the running time for recursive= 0.023462295532226562\n",
      "the running time for for-loop= 0.02345871925354004\n",
      "For i= 10002\n",
      "the running time for recursive= 0.023214340209960938\n",
      "the running time for for-loop= 0.02341318130493164\n",
      "For i= 10003\n",
      "the running time for recursive= 0.023720502853393555\n",
      "the running time for for-loop= 0.023316144943237305\n",
      "For i= 10004\n",
      "the running time for recursive= 0.023775577545166016\n",
      "the running time for for-loop= 0.02316594123840332\n",
      "For i= 10005\n",
      "the running time for recursive= 0.023030519485473633\n",
      "the running time for for-loop= 0.023274660110473633\n",
      "For i= 10006\n",
      "the running time for recursive= 0.026077985763549805\n",
      "the running time for for-loop= 0.023395299911499023\n",
      "For i= 10007\n",
      "the running time for recursive= 0.023053407669067383\n",
      "the running time for for-loop= 0.023135900497436523\n",
      "For i= 10008\n",
      "the running time for recursive= 0.023013830184936523\n",
      "the running time for for-loop= 0.023182392120361328\n",
      "For i= 10009\n",
      "the running time for recursive= 0.023139476776123047\n",
      "the running time for for-loop= 0.023081064224243164\n",
      "For i= 10010\n",
      "the running time for recursive= 0.02313065528869629\n",
      "the running time for for-loop= 0.023341894149780273\n",
      "For i= 10011\n",
      "the running time for recursive= 0.02281641960144043\n",
      "the running time for for-loop= 0.025356054306030273\n",
      "For i= 10012\n",
      "the running time for recursive= 0.023740291595458984\n",
      "the running time for for-loop= 0.023553848266601562\n",
      "For i= 10013\n",
      "the running time for recursive= 0.023318767547607422\n",
      "the running time for for-loop= 0.023654460906982422\n",
      "For i= 10014\n",
      "the running time for recursive= 0.023607254028320312\n",
      "the running time for for-loop= 0.023479461669921875\n",
      "For i= 10015\n",
      "the running time for recursive= 0.023578882217407227\n",
      "the running time for for-loop= 0.023493289947509766\n",
      "For i= 10016\n",
      "the running time for recursive= 0.024683475494384766\n",
      "the running time for for-loop= 0.02663707733154297\n",
      "For i= 10017\n",
      "the running time for recursive= 0.023742198944091797\n",
      "the running time for for-loop= 0.02426314353942871\n",
      "For i= 10018\n",
      "the running time for recursive= 0.02383589744567871\n",
      "the running time for for-loop= 0.0234377384185791\n",
      "For i= 10019\n",
      "the running time for recursive= 0.023238420486450195\n",
      "the running time for for-loop= 0.023615121841430664\n",
      "For i= 10020\n",
      "the running time for recursive= 0.02326369285583496\n",
      "the running time for for-loop= 0.023881912231445312\n",
      "For i= 10021\n",
      "the running time for recursive= 0.024491548538208008\n",
      "the running time for for-loop= 0.0321197509765625\n",
      "For i= 10022\n",
      "the running time for recursive= 0.027338027954101562\n",
      "the running time for for-loop= 0.02746868133544922\n",
      "For i= 10023\n",
      "the running time for recursive= 0.02892303466796875\n",
      "the running time for for-loop= 0.026662111282348633\n",
      "For i= 10024\n",
      "the running time for recursive= 0.02936100959777832\n",
      "the running time for for-loop= 0.02771306037902832\n",
      "For i= 10025\n",
      "the running time for recursive= 0.025620698928833008\n",
      "the running time for for-loop= 0.025023221969604492\n",
      "For i= 10026\n",
      "the running time for recursive= 0.02572798728942871\n",
      "the running time for for-loop= 0.02448272705078125\n",
      "For i= 10027\n",
      "the running time for recursive= 0.02491140365600586\n",
      "the running time for for-loop= 0.02646803855895996\n",
      "For i= 10028\n",
      "the running time for recursive= 0.026620149612426758\n",
      "the running time for for-loop= 0.027853965759277344\n",
      "For i= 10029\n",
      "the running time for recursive= 0.025444507598876953\n",
      "the running time for for-loop= 0.025560617446899414\n",
      "For i= 10030\n",
      "the running time for recursive= 0.025159835815429688\n",
      "the running time for for-loop= 0.026073694229125977\n",
      "For i= 10031\n",
      "the running time for recursive= 0.026450157165527344\n",
      "the running time for for-loop= 0.024971723556518555\n",
      "For i= 10032\n",
      "the running time for recursive= 0.02542400360107422\n",
      "the running time for for-loop= 0.02675652503967285\n",
      "For i= 10033\n",
      "the running time for recursive= 0.024376630783081055\n",
      "the running time for for-loop= 0.023919343948364258\n",
      "For i= 10034\n",
      "the running time for recursive= 0.02423572540283203\n",
      "the running time for for-loop= 0.02712845802307129\n",
      "For i= 10035\n",
      "the running time for recursive= 0.025262832641601562\n",
      "the running time for for-loop= 0.027057886123657227\n",
      "For i= 10036\n",
      "the running time for recursive= 0.02563643455505371\n",
      "the running time for for-loop= 0.026642799377441406\n",
      "For i= 10037\n",
      "the running time for recursive= 0.027931928634643555\n",
      "the running time for for-loop= 0.026165246963500977\n",
      "For i= 10038\n",
      "the running time for recursive= 0.025331497192382812\n",
      "the running time for for-loop= 0.02695155143737793\n",
      "For i= 10039\n",
      "the running time for recursive= 0.02491617202758789\n",
      "the running time for for-loop= 0.024133682250976562\n",
      "For i= 10040\n",
      "the running time for recursive= 0.02377796173095703\n",
      "the running time for for-loop= 0.023917436599731445\n",
      "For i= 10041\n",
      "the running time for recursive= 0.024317026138305664\n",
      "the running time for for-loop= 0.026513099670410156\n",
      "For i= 10042\n",
      "the running time for recursive= 0.024040699005126953\n",
      "the running time for for-loop= 0.023853540420532227\n",
      "For i= 10043\n",
      "the running time for recursive= 0.023792028427124023\n",
      "the running time for for-loop= 0.023501873016357422\n",
      "For i= 10044\n",
      "the running time for recursive= 0.02378249168395996\n",
      "the running time for for-loop= 0.023328542709350586\n",
      "For i= 10045\n",
      "the running time for recursive= 0.023278474807739258\n",
      "the running time for for-loop= 0.023440122604370117\n",
      "For i= 10046\n",
      "the running time for recursive= 0.023058652877807617\n",
      "the running time for for-loop= 0.023378849029541016\n",
      "For i= 10047\n",
      "the running time for recursive= 0.030588150024414062\n",
      "the running time for for-loop= 0.023711442947387695\n",
      "For i= 10048\n",
      "the running time for recursive= 0.02394413948059082\n",
      "the running time for for-loop= 0.02361917495727539\n",
      "For i= 10049\n",
      "the running time for recursive= 0.02341485023498535\n",
      "the running time for for-loop= 0.023673295974731445\n"
     ]
    }
   ],
   "source": [
    "import time\n",
    "\n",
    "\n",
    "def factorial_recursive(x):\n",
    "    if x == 0:\n",
    "        return 1\n",
    "    if x == 1:\n",
    "        return 1\n",
    "    else:\n",
    "        return x*factorial(x-1)\n",
    "\n",
    "    \n",
    "def factorial_for_loop(x):\n",
    "    if x == 0:\n",
    "        return 1\n",
    "    if x == 1:\n",
    "        return 1\n",
    "    result = x\n",
    "    for i in range(x-1, 1, -1):\n",
    "        result *= i\n",
    "    return result\n",
    "\n",
    "for i in range(10000, 10050):\n",
    "    start_recursive = time.time()\n",
    "    factorial_recursive(i)\n",
    "    running_time_recurse = time.time() - start_recursive\n",
    "    start_for_loop = time.time()\n",
    "    factorial_for_loop(i)\n",
    "    running_time_for_loop = time.time() - start_for_loop\n",
    "    print(\"For i=\", i)\n",
    "    print(\"the running time for recursive=\", running_time_recurse)\n",
    "    print(\"the running time for for-loop=\", running_time_for_loop)"
   ]
  },
  {
   "cell_type": "markdown",
   "metadata": {},
   "source": [
    "Interestingly, for one recursive call things look like they are actually doing okay.  Let's see if this holds up for making two recursive calls per function call."
   ]
  },
  {
   "cell_type": "code",
   "execution_count": 30,
   "metadata": {},
   "outputs": [
    {
     "name": "stdout",
     "output_type": "stream",
     "text": [
      "For i= 10\n",
      "the running time for recursive= 2.2172927856445312e-05\n",
      "the running time for for-loop= 2.6226043701171875e-06\n",
      "For i= 11\n",
      "the running time for recursive= 3.457069396972656e-05\n",
      "the running time for for-loop= 3.5762786865234375e-06\n",
      "For i= 12\n",
      "the running time for recursive= 5.2928924560546875e-05\n",
      "the running time for for-loop= 2.86102294921875e-06\n",
      "For i= 13\n",
      "the running time for recursive= 8.440017700195312e-05\n",
      "the running time for for-loop= 2.86102294921875e-06\n",
      "For i= 14\n",
      "the running time for recursive= 0.00016999244689941406\n",
      "the running time for for-loop= 3.814697265625e-06\n",
      "For i= 15\n",
      "the running time for recursive= 0.0002167224884033203\n",
      "the running time for for-loop= 2.86102294921875e-06\n",
      "For i= 16\n",
      "the running time for recursive= 0.0003476142883300781\n",
      "the running time for for-loop= 4.291534423828125e-06\n",
      "For i= 17\n",
      "the running time for recursive= 0.0005626678466796875\n",
      "the running time for for-loop= 3.337860107421875e-06\n",
      "For i= 18\n",
      "the running time for recursive= 0.0009059906005859375\n",
      "the running time for for-loop= 3.814697265625e-06\n",
      "For i= 19\n",
      "the running time for recursive= 0.001470327377319336\n",
      "the running time for for-loop= 3.814697265625e-06\n",
      "For i= 20\n",
      "the running time for recursive= 0.0023674964904785156\n",
      "the running time for for-loop= 4.0531158447265625e-06\n",
      "For i= 21\n",
      "the running time for recursive= 0.0038673877716064453\n",
      "the running time for for-loop= 4.0531158447265625e-06\n",
      "For i= 22\n",
      "the running time for recursive= 0.007661342620849609\n",
      "the running time for for-loop= 8.344650268554688e-06\n",
      "For i= 23\n",
      "the running time for recursive= 0.010164260864257812\n",
      "the running time for for-loop= 5.7220458984375e-06\n",
      "For i= 24\n",
      "the running time for recursive= 0.016443490982055664\n",
      "the running time for for-loop= 7.62939453125e-06\n",
      "For i= 25\n",
      "the running time for recursive= 0.026530027389526367\n",
      "the running time for for-loop= 6.9141387939453125e-06\n",
      "For i= 26\n",
      "the running time for recursive= 0.04291582107543945\n",
      "the running time for for-loop= 6.67572021484375e-06\n",
      "For i= 27\n",
      "the running time for recursive= 0.0694434642791748\n",
      "the running time for for-loop= 7.152557373046875e-06\n",
      "For i= 28\n",
      "the running time for recursive= 0.1161508560180664\n",
      "the running time for for-loop= 9.059906005859375e-06\n",
      "For i= 29\n",
      "the running time for recursive= 0.1826326847076416\n",
      "the running time for for-loop= 9.5367431640625e-06\n",
      "For i= 30\n",
      "the running time for recursive= 0.30346035957336426\n",
      "the running time for for-loop= 9.298324584960938e-06\n",
      "For i= 31\n",
      "the running time for recursive= 0.519798994064331\n",
      "the running time for for-loop= 8.344650268554688e-06\n",
      "For i= 32\n",
      "the running time for recursive= 0.8311622142791748\n",
      "the running time for for-loop= 1.430511474609375e-05\n",
      "For i= 33\n",
      "the running time for recursive= 1.2741196155548096\n",
      "the running time for for-loop= 1.430511474609375e-05\n",
      "For i= 34\n",
      "the running time for recursive= 2.0778701305389404\n",
      "the running time for for-loop= 1.8596649169921875e-05\n",
      "For i= 35\n",
      "the running time for recursive= 3.4012768268585205\n",
      "the running time for for-loop= 1.4066696166992188e-05\n",
      "For i= 36\n",
      "the running time for recursive= 6.009284019470215\n",
      "the running time for for-loop= 1.5974044799804688e-05\n",
      "For i= 37\n",
      "the running time for recursive= 10.46417498588562\n",
      "the running time for for-loop= 1.4543533325195312e-05\n",
      "For i= 38\n",
      "the running time for recursive= 17.54649829864502\n",
      "the running time for for-loop= 3.123283386230469e-05\n",
      "For i= 39\n",
      "the running time for recursive= 29.6282057762146\n",
      "the running time for for-loop= 1.7642974853515625e-05\n"
     ]
    }
   ],
   "source": [
    "def fib(x):\n",
    "    if x == 0:\n",
    "        return 1\n",
    "    if x == 1:\n",
    "        return 1\n",
    "    else:\n",
    "        return fib(x-1) + fib(x-2)\n",
    "\n",
    "    \n",
    "def fib_two(x):\n",
    "    fib_seq = [1, 1]\n",
    "    if x <= 1:\n",
    "        return x\n",
    "    else:\n",
    "        for i in range(2, x+1):\n",
    "            fib_seq.append(fib_seq[i-1] + fib_seq[i-2])\n",
    "    return fib_seq[x]\n",
    "\n",
    "\n",
    "for i in range(10, 40):\n",
    "    start_recursive = time.time()\n",
    "    fib(i)\n",
    "    running_time_recurse = time.time() - start_recursive\n",
    "    start_for_loop = time.time()\n",
    "    fib_two(i)\n",
    "    running_time_for_loop = time.time() - start_for_loop\n",
    "    print(\"For i=\", i)\n",
    "    print(\"the running time for recursive=\", running_time_recurse)\n",
    "    print(\"the running time for for-loop=\", running_time_for_loop)"
   ]
  },
  {
   "cell_type": "markdown",
   "metadata": {},
   "source": [
    "As you can see, for the case when multiple recursive calls need to be made per functional call, the iterative case for exceeds the recursive case in performance.  "
   ]
  },
  {
   "cell_type": "markdown",
   "metadata": {},
   "source": [
    "## List comprehensions\n",
    "\n",
    "The last looping technique we will look at today is more of a syntactic sugar than anything else.  That just means it looks pretty but doesn't really do anything new.  Let's see an example!  "
   ]
  },
  {
   "cell_type": "code",
   "execution_count": 41,
   "metadata": {},
   "outputs": [
    {
     "name": "stdout",
     "output_type": "stream",
     "text": [
      "[0, 1, 2, 3, 4, 5, 6, 7, 8, 9, 10, 11, 12, 13, 14, 15, 16, 17, 18, 19, 20, 21, 22, 23, 24, 25, 26, 27, 28, 29, 30, 31, 32, 33, 34, 35, 36, 37, 38, 39, 40, 41, 42, 43, 44, 45, 46, 47, 48, 49, 50, 51, 52, 53, 54, 55, 56, 57, 58, 59, 60, 61, 62, 63, 64, 65, 66, 67, 68, 69, 70, 71, 72, 73, 74, 75, 76, 77, 78, 79, 80, 81, 82, 83, 84, 85, 86, 87, 88, 89, 90, 91, 92, 93, 94, 95, 96, 97, 98, 99]\n"
     ]
    }
   ],
   "source": [
    "list_comp = [elem for elem in range(100)]\n",
    "print(list_comp)"
   ]
  },
  {
   "cell_type": "markdown",
   "metadata": {},
   "source": [
    "The general syntax for a list comprehension is:\n",
    "\n",
    "`[[ITERATOR VALUE] for [ITERATOR VALUE] in [ITERABLE OBJECT]]`\n",
    "\n",
    "Here the `[ITERATOR VALUE]` is the value being interated over.  The `[ITERABLE OBJECT]` is any object that can be iterated over.  Two examples of iterables are the lists we saw above and the result of the `range` function."
   ]
  },
  {
   "cell_type": "code",
   "execution_count": 42,
   "metadata": {},
   "outputs": [
    {
     "name": "stdout",
     "output_type": "stream",
     "text": [
      "[0, 1, 2, 3, 4, 5, 6, 7, 8, 9, 10, 11, 12, 13, 14, 15, 16, 17, 18, 19, 20, 21, 22, 23, 24, 25, 26, 27, 28, 29, 30, 31, 32, 33, 34, 35, 36, 37, 38, 39, 40, 41, 42, 43, 44, 45, 46, 47, 48, 49, 50, 51, 52, 53, 54, 55, 56, 57, 58, 59, 60, 61, 62, 63, 64, 65, 66, 67, 68, 69, 70, 71, 72, 73, 74, 75, 76, 77, 78, 79, 80, 81, 82, 83, 84, 85, 86, 87, 88, 89, 90, 91, 92, 93, 94, 95, 96, 97, 98, 99]\n"
     ]
    }
   ],
   "source": [
    "list_for = []\n",
    "for elem in range(100):\n",
    "    list_for.append(elem)\n",
    "print(list_for)"
   ]
  },
  {
   "cell_type": "code",
   "execution_count": 43,
   "metadata": {},
   "outputs": [
    {
     "data": {
      "text/plain": [
       "True"
      ]
     },
     "execution_count": 43,
     "metadata": {},
     "output_type": "execute_result"
    }
   ],
   "source": [
    "list_for == list_comp"
   ]
  },
  {
   "cell_type": "markdown",
   "metadata": {},
   "source": [
    "As you can see the two pieces of code are equivalent.  The only real difference is that we can accomplish what typically takes 3 lines in 1 line.\n",
    "\n",
    "List comprehensions are really great for expressing a single idea in a loop.  If looping takes a few ideas and brings them together in a loop, probably best to use a traditional for loop.  The more complex the code is inside the for loop, the harder it is to express as a list comprehension.\n",
    "\n",
    "That said, there are some extra things you can do with list comprehensions to make them a bit more flexible."
   ]
  },
  {
   "cell_type": "code",
   "execution_count": 45,
   "metadata": {},
   "outputs": [
    {
     "name": "stdout",
     "output_type": "stream",
     "text": [
      "[0, 2, 4, 6, 8, 10, 12, 14, 16, 18, 20, 22, 24, 26, 28, 30, 32, 34, 36, 38, 40, 42, 44, 46, 48, 50, 52, 54, 56, 58, 60, 62, 64, 66, 68, 70, 72, 74, 76, 78, 80, 82, 84, 86, 88, 90, 92, 94, 96, 98, 100]\n"
     ]
    }
   ],
   "source": [
    "evens = [elem for elem in range(101) if elem % 2 == 0]\n",
    "print(evens)"
   ]
  },
  {
   "cell_type": "markdown",
   "metadata": {},
   "source": [
    "As you can see, the evens list has all the even numbers between 0 and 100 inclusive.  The reason only the evens are stored is because of the code at the end - `if elem % 2 == 0`.\n",
    "\n",
    "This code says evaluate whether or not the element is divisible by 2 with no remainder.  Basically the definition of an even number.  In general, adding an if statement of this kind to a list comprehension acts as a filter restricting our resultant list to those elements for which the boolean condition is true."
   ]
  },
  {
   "cell_type": "code",
   "execution_count": 50,
   "metadata": {},
   "outputs": [
    {
     "name": "stdout",
     "output_type": "stream",
     "text": [
      "[0, 1, 2, 3, 4, 5, 6, 0, 8, 2, 10, 4, 12, 6, 14, 1, 16, 3, 18, 5, 20, 0, 22, 2, 24, 4, 26, 6, 28, 1, 30, 3, 32, 5, 34, 0, 36, 2, 38, 4, 40, 6, 42, 1, 44, 3, 46, 5, 48, 0, 50, 2, 52, 4, 54, 6, 56, 1, 58, 3, 60, 5, 62, 0, 64, 2, 66, 4, 68, 6, 70, 1, 72, 3, 74, 5, 76, 0, 78, 2, 80, 4, 82, 6, 84, 1, 86, 3, 88, 5, 90, 0, 92, 2, 94, 4, 96, 6, 98, 1, 100]\n"
     ]
    }
   ],
   "source": [
    "evens_and_sevens = [elem if elem % 2 == 0 else elem % 7 \n",
    "                    for elem in range(101)]\n",
    "print(evens_and_sevens)"
   ]
  },
  {
   "cell_type": "markdown",
   "metadata": {},
   "source": [
    "if you want to do additional filtering you'll need to put the if/else statement infront of the for loop. Although this is usually also best accompanied by a line split, as shown above."
   ]
  },
  {
   "cell_type": "code",
   "execution_count": null,
   "metadata": {},
   "outputs": [],
   "source": []
  }
 ],
 "metadata": {
  "kernelspec": {
   "display_name": "Python 3",
   "language": "python",
   "name": "python3"
  },
  "language_info": {
   "codemirror_mode": {
    "name": "ipython",
    "version": 3
   },
   "file_extension": ".py",
   "mimetype": "text/x-python",
   "name": "python",
   "nbconvert_exporter": "python",
   "pygments_lexer": "ipython3",
   "version": "3.6.3"
  }
 },
 "nbformat": 4,
 "nbformat_minor": 2
}
