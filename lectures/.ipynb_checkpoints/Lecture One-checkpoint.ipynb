{
 "cells": [
  {
   "cell_type": "markdown",
   "metadata": {},
   "source": [
    "# Introduction to Python\n",
    "\n",
    "The Python language is flexible and easy to use.  This is in part because of the philosophy of Python.  Let's checkout the Zen Of Python to start"
   ]
  },
  {
   "cell_type": "code",
   "execution_count": 29,
   "metadata": {},
   "outputs": [
    {
     "name": "stdout",
     "output_type": "stream",
     "text": [
      "Hello World\n"
     ]
    }
   ],
   "source": [
    "print(\"Hello World\")"
   ]
  },
  {
   "cell_type": "markdown",
   "metadata": {},
   "source": [
    "## In Java\n",
    "```\n",
    "public class HelloWorld {\n",
    "\n",
    "    public static void main(String[] args) {\n",
    "        // Prints \"Hello, World\" to the terminal window.\n",
    "        System.out.println(\"Hello, World\");\n",
    "    }\n",
    "\n",
    "}\n",
    "```"
   ]
  },
  {
   "cell_type": "markdown",
   "metadata": {},
   "source": [
    "## In C++\n",
    "```\n",
    "// Simple C++ program to display \"Hello World\"\n",
    " \n",
    "// Header file for input output functions\n",
    "#include<iostream> \n",
    " \n",
    "using namespace std;\n",
    " \n",
    "// main function -\n",
    "// where the execution of program begins\n",
    "int main()\n",
    "{\n",
    "    // prints heelo world\n",
    "    cout<<\"Hello World\";\n",
    "     \n",
    "    return 0;\n",
    "}\n",
    "```"
   ]
  },
  {
   "cell_type": "code",
   "execution_count": 1,
   "metadata": {},
   "outputs": [
    {
     "name": "stdout",
     "output_type": "stream",
     "text": [
      "The Zen of Python, by Tim Peters\n",
      "\n",
      "Beautiful is better than ugly.\n",
      "Explicit is better than implicit.\n",
      "Simple is better than complex.\n",
      "Complex is better than complicated.\n",
      "Flat is better than nested.\n",
      "Sparse is better than dense.\n",
      "Readability counts.\n",
      "Special cases aren't special enough to break the rules.\n",
      "Although practicality beats purity.\n",
      "Errors should never pass silently.\n",
      "Unless explicitly silenced.\n",
      "In the face of ambiguity, refuse the temptation to guess.\n",
      "There should be one-- and preferably only one --obvious way to do it.\n",
      "Although that way may not be obvious at first unless you're Dutch.\n",
      "Now is better than never.\n",
      "Although never is often better than *right* now.\n",
      "If the implementation is hard to explain, it's a bad idea.\n",
      "If the implementation is easy to explain, it may be a good idea.\n",
      "Namespaces are one honking great idea -- let's do more of those!\n"
     ]
    }
   ],
   "source": [
    "import this"
   ]
  },
  {
   "cell_type": "markdown",
   "metadata": {},
   "source": [
    "From this we see the clear and simple syntax of Python spelled out in a poem.  But better than that, these core examples extend to all of what \"good code\" really means."
   ]
  },
  {
   "cell_type": "markdown",
   "metadata": {},
   "source": [
    "## Data Types in Python\n",
    "\n",
    "There are four basic types in Python:\n",
    "\n",
    "Integers - `0`,`1`,`2`,`3`,`4`, ... `-1`, `-2`, `-3`, `-4`\n",
    "\n",
    "Floating Point `0.5412`, `0.321`, `4.5761`, `-1.1231`, `-0.12354`\n",
    "\n",
    "Booleans `True`, `False`\n",
    "\n",
    "Strings `\"hello\"`, `\"there\"`, `\"how are you?\"`\n",
    "\n",
    "There are various ways to interact with each of basic types - let's look at some examples!"
   ]
  },
  {
   "cell_type": "code",
   "execution_count": 2,
   "metadata": {},
   "outputs": [
    {
     "data": {
      "text/plain": [
       "12"
      ]
     },
     "execution_count": 2,
     "metadata": {},
     "output_type": "execute_result"
    }
   ],
   "source": [
    "5 + 7"
   ]
  },
  {
   "cell_type": "code",
   "execution_count": 8,
   "metadata": {},
   "outputs": [
    {
     "data": {
      "text/plain": [
       "45"
      ]
     },
     "execution_count": 8,
     "metadata": {},
     "output_type": "execute_result"
    }
   ],
   "source": [
    "57 - 12"
   ]
  },
  {
   "cell_type": "code",
   "execution_count": 9,
   "metadata": {},
   "outputs": [
    {
     "data": {
      "text/plain": [
       "2.0"
      ]
     },
     "execution_count": 9,
     "metadata": {},
     "output_type": "execute_result"
    }
   ],
   "source": [
    "4/2"
   ]
  },
  {
   "cell_type": "code",
   "execution_count": 31,
   "metadata": {},
   "outputs": [
    {
     "data": {
      "text/plain": [
       "5.12"
      ]
     },
     "execution_count": 31,
     "metadata": {},
     "output_type": "execute_result"
    }
   ],
   "source": [
    "0.12 + 5"
   ]
  },
  {
   "cell_type": "code",
   "execution_count": 4,
   "metadata": {},
   "outputs": [
    {
     "data": {
      "text/plain": [
       "False"
      ]
     },
     "execution_count": 4,
     "metadata": {},
     "output_type": "execute_result"
    }
   ],
   "source": [
    "True == False"
   ]
  },
  {
   "cell_type": "code",
   "execution_count": 5,
   "metadata": {},
   "outputs": [
    {
     "data": {
      "text/plain": [
       "True"
      ]
     },
     "execution_count": 5,
     "metadata": {},
     "output_type": "execute_result"
    }
   ],
   "source": [
    "True == True"
   ]
  },
  {
   "cell_type": "code",
   "execution_count": 32,
   "metadata": {},
   "outputs": [
    {
     "data": {
      "text/plain": [
       "'hello world'"
      ]
     },
     "execution_count": 32,
     "metadata": {},
     "output_type": "execute_result"
    }
   ],
   "source": [
    "\"hello \" + \"world\" #concatenate not 'add'"
   ]
  },
  {
   "cell_type": "code",
   "execution_count": 34,
   "metadata": {},
   "outputs": [
    {
     "data": {
      "text/plain": [
       "'AAAAAA'"
      ]
     },
     "execution_count": 34,
     "metadata": {},
     "output_type": "execute_result"
    }
   ],
   "source": [
    "\"A\"*6"
   ]
  },
  {
   "cell_type": "markdown",
   "metadata": {},
   "source": [
    "## Storing Values in Variables\n",
    "\n",
    "One of the biggest differences between simple calculators and programs is the ability to store data in variables.  This allows us to update variables over time."
   ]
  },
  {
   "cell_type": "code",
   "execution_count": 38,
   "metadata": {},
   "outputs": [
    {
     "name": "stdout",
     "output_type": "stream",
     "text": [
      "The variable 'a' + 7 is 12\n"
     ]
    }
   ],
   "source": [
    "a = 5\n",
    "print(\"The variable 'a' + 7 is\", a+7)"
   ]
  },
  {
   "cell_type": "code",
   "execution_count": 13,
   "metadata": {},
   "outputs": [
    {
     "name": "stdout",
     "output_type": "stream",
     "text": [
      "The variable 'x' + the variable 'y' is 12\n"
     ]
    }
   ],
   "source": [
    "x = 5\n",
    "y = 7\n",
    "print(\"The variable 'x' + the variable 'y' is\", x + y)"
   ]
  },
  {
   "cell_type": "code",
   "execution_count": 43,
   "metadata": {},
   "outputs": [
    {
     "name": "stdout",
     "output_type": "stream",
     "text": [
      "Hello World\n"
     ]
    }
   ],
   "source": [
    "word = \"Hello\"\n",
    "other_word = \"World\"\n",
    "print(word + \" \" + other_word)"
   ]
  },
  {
   "cell_type": "code",
   "execution_count": 44,
   "metadata": {},
   "outputs": [
    {
     "data": {
      "text/plain": [
       "'World'"
      ]
     },
     "execution_count": 44,
     "metadata": {},
     "output_type": "execute_result"
    }
   ],
   "source": [
    "other_word"
   ]
  },
  {
   "cell_type": "code",
   "execution_count": 45,
   "metadata": {},
   "outputs": [
    {
     "name": "stdout",
     "output_type": "stream",
     "text": [
      "False\n"
     ]
    }
   ],
   "source": [
    "true = True\n",
    "false = False\n",
    "print(true == false)"
   ]
  },
  {
   "cell_type": "code",
   "execution_count": 48,
   "metadata": {},
   "outputs": [
    {
     "name": "stdout",
     "output_type": "stream",
     "text": [
      "True\n"
     ]
    }
   ],
   "source": [
    "true = True\n",
    "false = True\n",
    "print(true == false)"
   ]
  },
  {
   "cell_type": "markdown",
   "metadata": {},
   "source": [
    "The last variable gives us something very important - that naming matters.  Because variable names have no semantic meaning, inherently, so it's up to the programmer to decide what semantically makes sense.  This means programming, in a way, is more akin to writing than it is to 'high school' mathematics.  Of course, real mathematics is like writing too, but most don't get that far, unfortunately."
   ]
  },
  {
   "cell_type": "markdown",
   "metadata": {},
   "source": [
    "## Functions in Python\n",
    "\n",
    "So far we've been making use of built in functions - `+`, `==`, `*`, `-`, `/`\n",
    "\n",
    "These functions are \"built-in\" to the Python language.  \n",
    "\n",
    "Notice these are the standard functions from mathematics.  This is no accident, programming was originally designed to automate simple mathematics.\n",
    "\n",
    "Now let's see how to make our own functions!  At first we'll just look at adaptions of the above functions "
   ]
  },
  {
   "cell_type": "code",
   "execution_count": 11,
   "metadata": {},
   "outputs": [
    {
     "name": "stdout",
     "output_type": "stream",
     "text": [
      "5 + 7 is 12\n",
      "5 * 7 is 35\n",
      "5 / 7 is 0.7142857142857143\n",
      "5 - 7 is -2\n"
     ]
    }
   ],
   "source": [
    "def multiply(a, b):\n",
    "    return a * b\n",
    "\n",
    "\n",
    "def add(a, b):\n",
    "    return a + b\n",
    "\n",
    "\n",
    "def divide(a, b):\n",
    "    return a / b\n",
    "\n",
    "\n",
    "def subtract(a, b):\n",
    "    return a - b\n",
    "\n",
    "\n",
    "print(\"5 + 7 is\", add(5, 7))\n",
    "print(\"5 * 7 is\", multiply(5, 7))\n",
    "print(\"5 / 7 is\", divide(5, 7))\n",
    "print(\"5 - 7 is\", subtract(5, 7))"
   ]
  },
  {
   "cell_type": "code",
   "execution_count": 53,
   "metadata": {},
   "outputs": [],
   "source": [
    "def do_nothing(x):\n",
    "    pass\n",
    "\n",
    "do_nothing(6)"
   ]
  },
  {
   "cell_type": "markdown",
   "metadata": {},
   "source": [
    "Notice the addition of a new function `print`.  The `print` function allows us to print to the screen, or in this case, to the output window.  \n",
    "\n",
    "Additionally, notice the syntax of a function:\n",
    "\n",
    "``` \n",
    "def [FUNCTION NAME]([PARAMETER 1], [PARAMETER 2], ..., [PARAMETER N]):\n",
    "....indented code goes here\n",
    "....indented code goes here\n",
    "....indented code goes here\n",
    "...\n",
    "....return [VALUE 1], [VALUE 2], ... [VALUE N] (optional)\n",
    "```\n",
    "\n",
    "Here `[FUNCTION NAME]` is the name of the function.  `[PARAMETER i]` is the `i`th parameter the function takes.  Also notice all code belonging to the function must be indented at the same level.  Finally we have an optional return statement.  \n",
    "\n",
    "Functions that don't return in basic programs are rare.  But as we get into more advanced terroritory, they will become increasingly common place.\n",
    "\n",
    "It's important to note that the parameters we pass into the function definition are 'local' copies of the functions.  That means, if you change a variable in the local scope, it won't effect the global scope. \n",
    "\n",
    "Let's look at an example of this."
   ]
  },
  {
   "cell_type": "code",
   "execution_count": 62,
   "metadata": {},
   "outputs": [
    {
     "data": {
      "text/plain": [
       "12"
      ]
     },
     "execution_count": 62,
     "metadata": {},
     "output_type": "execute_result"
    }
   ],
   "source": [
    "# TODO multiplication 2\n",
    "def multiply_two(a, b):\n",
    "    result = 0\n",
    "    for _ in range(0, b):\n",
    "        result += a\n",
    "    return result\n",
    "\n",
    "multiply_two(3, 4)"
   ]
  },
  {
   "cell_type": "code",
   "execution_count": 18,
   "metadata": {},
   "outputs": [
    {
     "name": "stdout",
     "output_type": "stream",
     "text": [
      "Original variable before being passed in 5\n",
      "Variable augmented by a function 10\n",
      "Original variable after being passed in 5\n"
     ]
    }
   ],
   "source": [
    "x = 5\n",
    "\n",
    "def func(x):\n",
    "    x += 5\n",
    "    return x\n",
    "\n",
    "print(\"Original variable before being passed in\", x)\n",
    "print(\"Variable augmented by a function\", func(x))\n",
    "print(\"Original variable after being passed in\", x)"
   ]
  },
  {
   "cell_type": "markdown",
   "metadata": {},
   "source": [
    "As you can see the variable gets mutated inside the function, the local scope, but is preserved with it's original value in the global scope.\n",
    "\n",
    "Scoping rules can be very confusing.  But for now, let's just say anything inside a function definition is considered local scope and anything outside a function definition is global scope."
   ]
  },
  {
   "cell_type": "markdown",
   "metadata": {},
   "source": [
    "## More Advanced Functions\n",
    "\n",
    "Now that we have both the notion of variable storage as well as functions let's look at some sophisticated examples of functions, from mathematics of course!"
   ]
  },
  {
   "cell_type": "code",
   "execution_count": 23,
   "metadata": {},
   "outputs": [
    {
     "name": "stdout",
     "output_type": "stream",
     "text": [
      "This is equation one evaluated at the point (4, 5, 6);\n",
      " f(4,5,6) = 36\n",
      "And it stands for 5*x + 2*y + z\n"
     ]
    }
   ],
   "source": [
    "def equation_one(x_one, x_two, x_three):\n",
    "    return 5*x_one + 2*x_two + x_three\n",
    "\n",
    "print(\"This is equation one evaluated at the point (4, 5, 6);\\n f(4,5,6) =\", equation_one(4, 5, 6))\n",
    "print(\"And it stands for 5*x + 2*y + z\")"
   ]
  },
  {
   "cell_type": "code",
   "execution_count": 25,
   "metadata": {},
   "outputs": [
    {
     "name": "stdout",
     "output_type": "stream",
     "text": [
      "This is equation two evaluated at the point (1, 7);\n",
      " f(1, 7) =  38\n",
      "And it stands for 3x^2 + 5y\n"
     ]
    }
   ],
   "source": [
    "def equation_two(x_one, x_two):\n",
    "    return 3 * (x_one*x_one) + 5 * x_two\n",
    "\n",
    "print(\"This is equation two evaluated at the point (1, 7);\\n f(1, 7) = \", equation_two(1, 7))\n",
    "print(\"And it stands for 3x^2 + 5y\")"
   ]
  },
  {
   "cell_type": "markdown",
   "metadata": {},
   "source": [
    "## Flow of Control - The power of Booleans\n",
    "\n",
    "Unlike simple calculators, which is more or less all we've done so far, programming languages can encapsulate other aspects of mathematics like logic.\n",
    "\n",
    "We can write code that executes, only under certain conditions.  This will allow us to build more complex functions and code.  Ultimately expanding the set of programs we can write, by an exponential level!"
   ]
  },
  {
   "cell_type": "code",
   "execution_count": 27,
   "metadata": {},
   "outputs": [
    {
     "name": "stdout",
     "output_type": "stream",
     "text": [
      "5 is less than 7\n"
     ]
    }
   ],
   "source": [
    "condition = 5 < 7\n",
    "if condition:\n",
    "    print(\"5 is less than 7\")\n",
    "else:\n",
    "    print(\"Woah, folks we've broken math...\")"
   ]
  },
  {
   "cell_type": "markdown",
   "metadata": {},
   "source": [
    "Notice that condition is composed of two numbers and an equality sign.  This actually evaluates to a boolean!"
   ]
  },
  {
   "cell_type": "code",
   "execution_count": 28,
   "metadata": {},
   "outputs": [
    {
     "data": {
      "text/plain": [
       "True"
      ]
     },
     "execution_count": 28,
     "metadata": {},
     "output_type": "execute_result"
    }
   ],
   "source": [
    "condition"
   ]
  },
  {
   "cell_type": "markdown",
   "metadata": {},
   "source": [
    "Now we can see that condition is True, which is why the `if` evaluates the values in it's inner block.  In general if/else statements work as follows\n",
    "\n",
    "```\n",
    "if [CONDITION RESOLVING TO A BOOLEAN]:\n",
    "EXECUTE if [CONDITION RESOLVING TO A BOOLEAN] is True\n",
    "....indented block goes here\n",
    "....indented block goes here\n",
    "...\n",
    "else:\n",
    "EXECUTE if [CONDITION RESOLVING TO A BOOLEAN] is False\n",
    "....indented block goes here\n",
    "...\n",
    "```\n",
    "\n",
    "as you can see this more or less saying - if the condition is `True` do the first indented block,  if it's not, do the other indented block.  \n",
    "\n",
    "This may seem like a very simple idea, but as well see.  It is _extremely_ powerful."
   ]
  },
  {
   "cell_type": "code",
   "execution_count": null,
   "metadata": {},
   "outputs": [],
   "source": []
  }
 ],
 "metadata": {
  "kernelspec": {
   "display_name": "Python 3",
   "language": "python",
   "name": "python3"
  },
  "language_info": {
   "codemirror_mode": {
    "name": "ipython",
    "version": 3
   },
   "file_extension": ".py",
   "mimetype": "text/x-python",
   "name": "python",
   "nbconvert_exporter": "python",
   "pygments_lexer": "ipython3",
   "version": "3.6.3"
  }
 },
 "nbformat": 4,
 "nbformat_minor": 2
}
