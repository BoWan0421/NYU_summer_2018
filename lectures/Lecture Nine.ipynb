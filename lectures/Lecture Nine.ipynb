{
 "cells": [
  {
   "cell_type": "markdown",
   "metadata": {},
   "source": [
    "# Pointers In Python\n",
    "\n",
    "In this lecture we are going to take a deeper dive into:\n",
    "\n",
    "* scoping\n",
    "* assignment\n",
    "* references\n",
    "* pointers\n",
    "\n",
    "Let's start with understanding how a computer runs a program. At a high level a program is run from a stack.  Instructions are popped off the stack in sequential order and then executed.  So let's come up with how the following program would be executed using our disassembler:"
   ]
  },
  {
   "cell_type": "code",
   "execution_count": 1,
   "metadata": {},
   "outputs": [
    {
     "name": "stdout",
     "output_type": "stream",
     "text": [
      "Hello there\n",
      "Hello there\n",
      "We're all done\n",
      "  6           0 LOAD_GLOBAL              0 (print)\n",
      "              2 LOAD_CONST               1 ('Hello there')\n",
      "              4 CALL_FUNCTION            1\n",
      "              6 POP_TOP\n",
      "\n",
      "  7           8 LOAD_CONST               1 ('Hello there')\n",
      "             10 STORE_FAST               0 (greeting)\n",
      "\n",
      "  8          12 LOAD_GLOBAL              0 (print)\n",
      "             14 LOAD_FAST                0 (greeting)\n",
      "             16 CALL_FUNCTION            1\n",
      "             18 POP_TOP\n",
      "\n",
      "  9          20 LOAD_GLOBAL              1 (function)\n",
      "             22 LOAD_CONST               2 (5)\n",
      "             24 LOAD_CONST               3 (6)\n",
      "             26 CALL_FUNCTION            2\n",
      "             28 POP_TOP\n",
      "\n",
      " 10          30 LOAD_GLOBAL              0 (print)\n",
      "             32 LOAD_CONST               4 (\"We're all done\")\n",
      "             34 CALL_FUNCTION            1\n",
      "             36 POP_TOP\n",
      "             38 LOAD_CONST               0 (None)\n",
      "             40 RETURN_VALUE\n"
     ]
    }
   ],
   "source": [
    "import dis\n",
    "def function(x, y):\n",
    "    return x + y\n",
    "\n",
    "def main():\n",
    "    print(\"Hello there\")\n",
    "    greeting = \"Hello there\"\n",
    "    print(greeting)\n",
    "    function(5, 6)\n",
    "    print(\"We're all done\")\n",
    "    \n",
    "main()\n",
    "dis.dis(main)"
   ]
  },
  {
   "cell_type": "markdown",
   "metadata": {},
   "source": [
    "As you can see from the disassembled program, called `main` we do a series of `LOAD` instructions `CALL` instructions, `POP` instructions `STORE` instructions and `RETURN` instructions.  Each instruction type is the first part of the instruction name.\n",
    "\n",
    "Any `LOAD` instruction is an example of using some memory and any `STORE` instruction is storing that instruction in memory.\n",
    "\n",
    "So when we store the value \"Hello there\" in greeting we first load the string and then store it in the variable.  Understanding this high level program syntax will be helpful throughout our discussion of scoping rules and how they actually work.\n",
    "\n",
    "We'll need one more tool in order to complete our analysis.  We'll need to understand how memory works, at a high level, in our computer.  \n",
    "\n",
    "Memory is basically just a big list.  The addresses in memory are like the numbers in the index of a list.  In fact, in lower level languages memory access is done by simply adding a fixed amount from a start position to get the next discrete piece of data.  Because addition is very fast in computers, this means our memory can be accessed very efficiently when we do it in this way.\n",
    "\n",
    "This of course has _many_ disadvantages from the programmers perspective making it unwieldy in practice.  We'll need this understanding at a high level though, so we can understand what we are accessing and this effects the run of our programs.  For this we'll explicitly work with the addresses of our different variables and objects."
   ]
  },
  {
   "cell_type": "code",
   "execution_count": 3,
   "metadata": {},
   "outputs": [
    {
     "data": {
      "text/plain": [
       "'0xa6dde0'"
      ]
     },
     "execution_count": 3,
     "metadata": {},
     "output_type": "execute_result"
    }
   ],
   "source": [
    "def get_memory_address(variable):\n",
    "    return hex(id(variable))\n",
    "\n",
    "x = 10\n",
    "get_memory_address(x)"
   ]
  },
  {
   "cell_type": "markdown",
   "metadata": {},
   "source": [
    "The `id` function gets us the memory address of any variable or object in `Python`.  The `hex` function just converts this to hexidecimal notation, which is typically how memory addresses are stored in the machine.\n",
    "\n",
    "We are now ready for our first example!"
   ]
  },
  {
   "cell_type": "code",
   "execution_count": 4,
   "metadata": {},
   "outputs": [
    {
     "name": "stdout",
     "output_type": "stream",
     "text": [
      "0xa6dde0\n",
      "0xa6dde0\n"
     ]
    }
   ],
   "source": [
    "x = 10\n",
    "y = x\n",
    "print(get_memory_address(x))\n",
    "print(get_memory_address(y))"
   ]
  },
  {
   "cell_type": "markdown",
   "metadata": {},
   "source": [
    "As you can see the memory addresses of the variable `x` and the variable `y` are the same.  This isn't a big deal because they both reference the same value - `10`.  But what if we update one of the values?  We'd expect the memory addresses of x and y to change, because they no longer reference the same thing."
   ]
  },
  {
   "cell_type": "code",
   "execution_count": 6,
   "metadata": {},
   "outputs": [
    {
     "name": "stdout",
     "output_type": "stream",
     "text": [
      "15\n",
      "10\n",
      "0xa6de80\n",
      "0xa6dde0\n"
     ]
    }
   ],
   "source": [
    "x = 10\n",
    "y = x\n",
    "x += 5\n",
    "print(get_memory_address(x))\n",
    "print(get_memory_address(y))"
   ]
  },
  {
   "cell_type": "markdown",
   "metadata": {},
   "source": [
    "This works as expected!  The `x` variable gets updated and so the memory addresses are no longer the same thing.  Let's see if this is always the case:"
   ]
  },
  {
   "cell_type": "code",
   "execution_count": 8,
   "metadata": {},
   "outputs": [
    {
     "name": "stdout",
     "output_type": "stream",
     "text": [
      "Before Augmentation\n",
      "[10]\n",
      "[10]\n",
      "0x7fd5a0743348\n",
      "0x7fd5a0743348\n",
      "\n",
      "After Augmentation\n",
      "[15]\n",
      "[15]\n",
      "0x7fd5a0743348\n",
      "0x7fd5a0743348\n"
     ]
    }
   ],
   "source": [
    "x = [10]\n",
    "y = x\n",
    "print(\"Before Augmentation\")\n",
    "print(x)\n",
    "print(y)\n",
    "print(get_memory_address(x))\n",
    "print(get_memory_address(y))\n",
    "x[0] += 5\n",
    "print()\n",
    "print(\"After Augmentation\")\n",
    "print(x)\n",
    "print(y)\n",
    "print(get_memory_address(x))\n",
    "print(get_memory_address(y))"
   ]
  },
  {
   "cell_type": "markdown",
   "metadata": {},
   "source": [
    "Uh oh!  What happened?!? Here we are doing the same thing.  But remember, we are doing something strong than saying x equals y.  We are saying they take on the same memory address.  This means what happens to one happens to the other.  To borrow a concept from physics we can think of this as spooky interaction at a distance.  When we augment one thing, it effects the other, even though they aren't in physical contact of one another.  \n",
    "\n",
    "If we want to fix this, we'll need to take an extra step:"
   ]
  },
  {
   "cell_type": "code",
   "execution_count": 10,
   "metadata": {},
   "outputs": [
    {
     "name": "stdout",
     "output_type": "stream",
     "text": [
      "Before Augmentation\n",
      "[10]\n",
      "[10]\n",
      "0x7fd5a07757c8\n",
      "0x7fd5a06e8148\n",
      "\n",
      "After Augmentation\n",
      "[15]\n",
      "[10]\n",
      "0x7fd5a07757c8\n",
      "0x7fd5a06e8148\n"
     ]
    }
   ],
   "source": [
    "import copy\n",
    "\n",
    "x = [10]\n",
    "y = copy.deepcopy(x)\n",
    "print(\"Before Augmentation\")\n",
    "print(x)\n",
    "print(y)\n",
    "print(get_memory_address(x))\n",
    "print(get_memory_address(y))\n",
    "x[0] += 5\n",
    "print()\n",
    "print(\"After Augmentation\")\n",
    "print(x)\n",
    "print(y)\n",
    "print(get_memory_address(x))\n",
    "print(get_memory_address(y))\n"
   ]
  },
  {
   "cell_type": "markdown",
   "metadata": {},
   "source": [
    "The reason this differs is because it differed from the start.  When we do a `copy.deepcopy` what we are doing is copying the values but not the memory addresses.  So we are creating more objects in memory _but_ we avoid the logical error we encounter above.\n",
    "\n",
    "Let's see how else we can run into trouble with this."
   ]
  },
  {
   "cell_type": "code",
   "execution_count": 13,
   "metadata": {},
   "outputs": [
    {
     "name": "stdout",
     "output_type": "stream",
     "text": [
      "0xa6dde0\n",
      "0xa6dde0\n"
     ]
    }
   ],
   "source": [
    "def func_one():\n",
    "    x = 10\n",
    "    print(get_memory_address(x)) \n",
    "    \n",
    "def func_two():\n",
    "    y = 10\n",
    "    print(get_memory_address(y))\n",
    "    \n",
    "func_one()\n",
    "func_two()"
   ]
  },
  {
   "cell_type": "markdown",
   "metadata": {},
   "source": [
    "This doesn't seem like a big deal, except for the fact that our function scoping rules can make this tricky.  Let's see how this can be used to really mess with scoping rules."
   ]
  },
  {
   "cell_type": "code",
   "execution_count": 15,
   "metadata": {},
   "outputs": [
    {
     "name": "stdout",
     "output_type": "stream",
     "text": [
      "[0]\n",
      "[10]\n",
      "0x7fd59c5280c8\n",
      "0xa6dde0\n",
      "[10]\n",
      "[20]\n",
      "0x7fd59c5280c8\n",
      "0xa6df20\n"
     ]
    }
   ],
   "source": [
    "def func_one(listing):\n",
    "    print(listing)\n",
    "    listing[0] += 10\n",
    "    print(listing)\n",
    "    print(get_memory_address(listing))\n",
    "    print(get_memory_address(listing[0]))\n",
    "    \n",
    "def func_two(listing):\n",
    "    print(listing)\n",
    "    listing[0] += 10\n",
    "    print(listing)\n",
    "    print(get_memory_address(listing))\n",
    "    print(get_memory_address(listing[0]))\n",
    "    \n",
    "listing = [0]\n",
    "func_one(listing)\n",
    "func_two(listing)"
   ]
  },
  {
   "cell_type": "markdown",
   "metadata": {},
   "source": [
    "Oh no!  Not again :(  We didn't pass back our list, but because of the way lists are referenced in memory, the values get updated incorrectly.  What are some ways we can deal with this?"
   ]
  },
  {
   "cell_type": "code",
   "execution_count": 17,
   "metadata": {},
   "outputs": [
    {
     "name": "stdout",
     "output_type": "stream",
     "text": [
      "[0]\n",
      "[10]\n",
      "0x7fd59c52ef08\n",
      "0xa6dde0\n",
      "[0]\n",
      "[10]\n",
      "0x7fd59ce575c8\n",
      "0xa6dde0\n"
     ]
    }
   ],
   "source": [
    "import copy\n",
    "\n",
    "def func_one(listing):\n",
    "    new_list = copy.deepcopy(listing)\n",
    "    print(new_list)\n",
    "    new_list[0] += 10\n",
    "    print(new_list)\n",
    "    print(get_memory_address(new_list))\n",
    "    print(get_memory_address(new_list[0]))\n",
    "    \n",
    "def func_two(listing):\n",
    "    new_list = copy.deepcopy(listing)\n",
    "    print(new_list)\n",
    "    new_list[0] += 10\n",
    "    print(new_list)\n",
    "    print(get_memory_address(new_list))\n",
    "    print(get_memory_address(new_list[0]))\n",
    "    \n",
    "listing = [0]\n",
    "func_one(listing)\n",
    "func_two(listing)"
   ]
  },
  {
   "cell_type": "markdown",
   "metadata": {},
   "source": [
    "Now everything works as expected.  Another strategy you can employ is only augment lists that you update:"
   ]
  },
  {
   "cell_type": "code",
   "execution_count": 20,
   "metadata": {},
   "outputs": [
    {
     "name": "stdout",
     "output_type": "stream",
     "text": [
      "0x7fd59cda6288\n",
      "0xa6dde0\n",
      "[10]\n",
      "0x7fd59cda6288\n",
      "0xa6df20\n",
      "[20]\n"
     ]
    }
   ],
   "source": [
    "def func_one(listing):\n",
    "    listing[0] += 10\n",
    "    print(get_memory_address(listing))\n",
    "    print(get_memory_address(listing[0]))\n",
    "    return listing\n",
    "    \n",
    "def func_two(listing):\n",
    "    listing[0] += 10\n",
    "    print(get_memory_address(listing))\n",
    "    print(get_memory_address(listing[0]))\n",
    "    return listing\n",
    "    \n",
    "listing = [0]\n",
    "listing = func_one(listing)\n",
    "print(listing)\n",
    "listing = func_two(listing)\n",
    "print(listing)"
   ]
  },
  {
   "cell_type": "markdown",
   "metadata": {},
   "source": [
    "As you can see from the above code, we get the expected behavior now by simply ensuring that our list transforms happen in order.  This is mostly because of the assignment statement after the return.  Unfortunately we could also do the following:"
   ]
  },
  {
   "cell_type": "code",
   "execution_count": 21,
   "metadata": {},
   "outputs": [
    {
     "name": "stdout",
     "output_type": "stream",
     "text": [
      "0x7fd59c525c88\n",
      "0xa6dde0\n",
      "[10]\n",
      "0x7fd59c525c88\n",
      "0xa6df20\n",
      "[20]\n"
     ]
    }
   ],
   "source": [
    "def func_one(listing):\n",
    "    listing[0] += 10\n",
    "    print(get_memory_address(listing))\n",
    "    print(get_memory_address(listing[0]))\n",
    "    return listing\n",
    "    \n",
    "def func_two(listing):\n",
    "    listing[0] += 10\n",
    "    print(get_memory_address(listing))\n",
    "    print(get_memory_address(listing[0]))\n",
    "    return listing\n",
    "    \n",
    "listing = [0]\n",
    "func_one(listing)\n",
    "print(listing)\n",
    "func_two(listing)\n",
    "print(listing)"
   ]
  },
  {
   "cell_type": "markdown",
   "metadata": {},
   "source": [
    "While this certainly \"works\" no reasonable programmer would look at this and know what it means.  So even though it's not \"necessary\" it's a very good idea to include the assignment statements."
   ]
  },
  {
   "cell_type": "code",
   "execution_count": 27,
   "metadata": {},
   "outputs": [
    {
     "name": "stdout",
     "output_type": "stream",
     "text": [
      "[1]\n",
      "[]\n"
     ]
    }
   ],
   "source": [
    "class Node:\n",
    "    def __init__(self, data, next):\n",
    "        self.data = data\n",
    "        self.next = next\n",
    "        \n",
    "    def __str__(self):\n",
    "        return repr(self.data)\n",
    "\n",
    "\n",
    "class LinkedList:\n",
    "    def __init__(self):\n",
    "        self.head = None\n",
    "        \n",
    "    def append(self, data):\n",
    "        if self.head is None:\n",
    "            self.head = Node(data, None)\n",
    "        else:\n",
    "            cur = self.head\n",
    "            while cur.next:\n",
    "                cur = cur.next\n",
    "            cur.next = Node(data, None)\n",
    "    \n",
    "\n",
    "linked_list = LinkedList()\n",
    "linked_list.append([])\n",
    "linked_list.append([])\n",
    "\n",
    "linked_list.head.data.append(1)\n",
    "\n",
    "cur = linked_list.head\n",
    "while cur:\n",
    "    print(cur.data)\n",
    "    cur = cur.next"
   ]
  },
  {
   "cell_type": "code",
   "execution_count": null,
   "metadata": {},
   "outputs": [],
   "source": []
  }
 ],
 "metadata": {
  "kernelspec": {
   "display_name": "Python 3",
   "language": "python",
   "name": "python3"
  },
  "language_info": {
   "codemirror_mode": {
    "name": "ipython",
    "version": 3
   },
   "file_extension": ".py",
   "mimetype": "text/x-python",
   "name": "python",
   "nbconvert_exporter": "python",
   "pygments_lexer": "ipython3",
   "version": "3.6.3"
  }
 },
 "nbformat": 4,
 "nbformat_minor": 2
}
